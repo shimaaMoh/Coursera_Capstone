{
 "cells": [
  {
   "cell_type": "markdown",
   "metadata": {},
   "source": [
    "# Peer-graded Assignment: Capstone Project - The Battle of Neighborhoods"
   ]
  },
  {
   "cell_type": "markdown",
   "metadata": {},
   "source": [
    "## In this capstone project, I will analyze three data sets in Saudi Arabia. In addition, I will use the Foursquare API to explore the major provinces, venues, airports in KSA.I will use the k-means clustering algorithm to cluster KSA airports. \n"
   ]
  },
  {
   "cell_type": "markdown",
   "metadata": {},
   "source": [
    "### The project consists of four parts: \n",
    "1.\tCleaning the data and choosing only the relevant ones\n",
    "2.\tSegmenting Saudi Arabia Provinces and visualizing the cities inside each province \n",
    "3.\tExploring the venues in Makkah and Riyadh provinces\n",
    "4.\tClustering the airports based on their space (small – medium - large)\n"
   ]
  },
  {
   "cell_type": "markdown",
   "metadata": {},
   "source": [
    "### The data in this project are divided into three parts \n",
    "1.\tSaudi Arabia - Administrative Boundaries (Levels 0-1), Populated Places (URL: https://data.humdata.org/dataset/saudi-arabia-administrative-boundaries)\n",
    "2.\t KSA airports: (URL:  https://data.humdata.org/dataset/ourairports-sau)\n",
    "3.\tProvinces dataset: (URL: https://data.humdata.org/dataset/saudi-arabia-administrative-boundaries)\n"
   ]
  },
  {
   "cell_type": "code",
   "execution_count": null,
   "metadata": {},
   "outputs": [],
   "source": []
  }
 ],
 "metadata": {
  "kernelspec": {
   "display_name": "Python 3",
   "language": "python",
   "name": "python3"
  },
  "language_info": {
   "codemirror_mode": {
    "name": "ipython",
    "version": 3
   },
   "file_extension": ".py",
   "mimetype": "text/x-python",
   "name": "python",
   "nbconvert_exporter": "python",
   "pygments_lexer": "ipython3",
   "version": "3.7.4"
  }
 },
 "nbformat": 4,
 "nbformat_minor": 2
}
