{
 "cells": [
  {
   "cell_type": "markdown",
   "metadata": {},
   "source": [
    "# Capstone Project (Week 1)"
   ]
  },
  {
   "cell_type": "markdown",
   "metadata": {},
   "source": [
    "## Part One: A description of the problem and a discussion of the background. "
   ]
  },
  {
   "cell_type": "markdown",
   "metadata": {},
   "source": [
    "COVID-2019 is a infectious disease that comes from large family of viruses that cause illness ranging from the common cold to more severe diseases called Coronaviruses (CoV). Other examples of coronaviruses are: Middle East Respiratory Syndrome and Severe Acute Respiratory Syndrome.COVID-2019 was discovered in 2019 in Wuhan,China. The most common symptoms of COVID-19 are fever, tiredness, and dry cough. Some patients may have aches and pains, nasal congestion, runny nose, sore throat or diarrhea. These symptoms are usually mild and begin gradually (WHO, 2019)."
   ]
  },
  {
   "cell_type": "markdown",
   "metadata": {},
   "source": [
    "### In this project, I will use Johns Hopkins dataset to achieve the following:\n",
    "1.\tData Preprocessing\n",
    "2.\tPreforming exploratory data analysis on the world data using Plotly, Matplotlib and seaborn\n",
    "3.\tVisualizing the geospatial data concerning china using Folium and cufflinks\n",
    "4.\tExploring the Venues of the locations that has high number of cases (confirmed, recovered, deaths) using Foursquare API \n",
    " \n"
   ]
  },
  {
   "cell_type": "markdown",
   "metadata": {},
   "source": [
    "## Part Two: A description of the data and how it will be used to solve the problem."
   ]
  },
  {
   "cell_type": "markdown",
   "metadata": {},
   "source": [
    "### As mentioned above, the data used is Johns Hopkins dataset which contain the following fields:\n",
    "1.\tCounty/Region\n",
    "2.\tProvince/State\n",
    "3.\tLatitude \n",
    "4.\tLongitude \n",
    "5.\tConfirmed: Number of Confirmed Cases\n",
    "6.\tRecovered: Number of Recovered Cases\n",
    "7.\tDeaths\n",
    "8.\tDate: Date of the report\n",
    "\n",
    "This is the data repository for the 2019 Novel Coronavirus Visual Dashboard operated by the Johns Hopkins University Center for Systems Science and Engineering (JHU CSSE). Also, Supported by ESRI Living Atlas Team and the Johns Hopkins University Applied Physics Lab (JHU APL). This set contains sufficient amount of data that will help to carry on the aforementioned tasks (Gabriel Preda, 2019/2020).\n"
   ]
  },
  {
   "cell_type": "markdown",
   "metadata": {},
   "source": [
    "### References:\n",
    "1. Gabriel Preda. 2019/2020. coronavirus-2019ncov. Kaggle. [Online] 2019/2020. https://www.kaggle.com/gpreda.\n",
    "2. WHO. 2019. Coronavirus. World Health Organization. [Online] 2019. https://www.who.int/health-topics/coronavirus.\n",
    "\n"
   ]
  },
  {
   "cell_type": "code",
   "execution_count": null,
   "metadata": {},
   "outputs": [],
   "source": []
  }
 ],
 "metadata": {
  "kernelspec": {
   "display_name": "Python 3",
   "language": "python",
   "name": "python3"
  },
  "language_info": {
   "codemirror_mode": {
    "name": "ipython",
    "version": 3
   },
   "file_extension": ".py",
   "mimetype": "text/x-python",
   "name": "python",
   "nbconvert_exporter": "python",
   "pygments_lexer": "ipython3",
   "version": "3.7.4"
  }
 },
 "nbformat": 4,
 "nbformat_minor": 2
}
